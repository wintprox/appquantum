{
 "cells": [
  {
   "cell_type": "markdown",
   "metadata": {},
   "source": [
    "## Установка Clickhouse-driver"
   ]
  },
  {
   "cell_type": "code",
   "execution_count": null,
   "metadata": {},
   "outputs": [],
   "source": [
    "pip install clickhouse-driver"
   ]
  },
  {
   "cell_type": "markdown",
   "metadata": {},
   "source": [
    "## Импорт бибилиотек"
   ]
  },
  {
   "cell_type": "code",
   "execution_count": null,
   "metadata": {},
   "outputs": [],
   "source": [
    "from clickhouse_driver import Client\n",
    "import pandas as pd\n",
    "import seaborn as sns\n",
    "import matplotlib.pyplot as plt"
   ]
  },
  {
   "cell_type": "markdown",
   "metadata": {},
   "source": [
    "Подключение к базде данных"
   ]
  },
  {
   "cell_type": "code",
   "execution_count": null,
   "metadata": {},
   "outputs": [],
   "source": [
    "client = Client(host = \"dev-01.aksimemor.me\",\n",
    "                port = 9000,\n",
    "                database = \"default\",\n",
    "                user = \"thanos\",\n",
    "                password = \"show_me_your_data\")"
   ]
  },
  {
   "cell_type": "markdown",
   "metadata": {},
   "source": [
    "Запрос в БД таблицу Marvel для просмотра первых 3 записей и преобразхование в DF будем делать за счет следующего кода"
   ]
  },
  {
   "cell_type": "code",
   "execution_count": null,
   "metadata": {},
   "outputs": [],
   "source": [
    "top3, columns = client.execute('SELECT * FROM marvel LIMIT 3', \n",
    "                                 {'species': \"Iris-setosa\"},\n",
    "                                 with_column_types=True)\n",
    "top3 = pd.DataFrame(top3, columns=[tuple[0] for tuple in columns])\n",
    "top3"
   ]
  },
  {
   "cell_type": "code",
   "execution_count": null,
   "metadata": {},
   "outputs": [],
   "source": [
    "top3.info()"
   ]
  },
  {
   "cell_type": "markdown",
   "metadata": {},
   "source": [
    "## Описание данных\n",
    "user_id - id игрока  \n",
    "installed_at - Дата и время установки  \n",
    "created_at - Дата и время события  \n",
    "day - День жизни игрока с момента установки  \n",
    "country - Страна пользователя в момент совершения   события\n",
    "app_version_short - Версия мобильного приложения  \n",
    "last_time_spent - Продолжительность последней сессии в   секундах  \n",
    "lifetime_session_count - Общее кол-во сессий игрока к данному событию  \n",
    "activity_kind - Тип события  \n",
    "event_name - Название события  \n",
    "reporting_revenue - Выручка  "
   ]
  },
  {
   "cell_type": "markdown",
   "metadata": {},
   "source": [
    "## ARPU\n",
    "ARPU (по дням, неделям и месяцам) - средний доход с одного активного пользователя"
   ]
  },
  {
   "cell_type": "markdown",
   "metadata": {},
   "source": [
    "### Запрос в SQL: \n",
    "    SELECT     \n",
    "        toYYYYMM(installed_at) as dateIn, \n",
    "        toYYYYMM(created_at) as dateCr,   \n",
    "        dateDiff(month, installed_at, created_at) as Month,  \n",
    "        COUNT(DISTINCT(user_id)) as ordersCount,   \n",
    "        SUM(reporting_revenue) as sumRev,   \n",
    "        (SUM(reporting_revenue)/COUNT(DISTINCT(user_id))) as ARPUMonth    \n",
    "    FROM marvel   \n",
    "    GROUP BY dateIn, dateCr, Month\n",
    "    \n",
    "Для недельных и ежедневных данных заменим dateDiff на нужные когорты"
   ]
  },
  {
   "cell_type": "markdown",
   "metadata": {},
   "source": [
    "## ARPU Month"
   ]
  },
  {
   "cell_type": "code",
   "execution_count": null,
   "metadata": {},
   "outputs": [],
   "source": [
    "ARPUmonth, columns = client.execute('SELECT toYYYYMM(installed_at) as dateIn, toYYYYMM(created_at) as dateCr, dateDiff(month, installed_at, created_at) as Month, COUNT(DISTINCT(user_id)) as ordersCount, SUM(reporting_revenue) as sumRev, (SUM(reporting_revenue)/COUNT(DISTINCT(user_id))) as ARPUMonth  FROM marvel GROUP BY dateIn, dateCr, Month',\n",
    "                                 {'species': \"Iris-setosa\"},\n",
    "                                 with_column_types=True)\n",
    "ARPUmonth = pd.DataFrame(ARPUmonth, columns=[tuple[0] for tuple in columns])\n",
    "CohortARPUmonth = ARPUmonth.pivot_table(index='dateIn', columns='Month', values='ARPUMonth')\n",
    "CohortARPUmonth.fillna(0, inplace=True)\n",
    "\n",
    "#График когорт\n",
    "CohortARPUmonth.T.plot(figsize=(16, 8))\n",
    "plt.title('ARPUMonth')\n",
    "plt.ylabel('ARPU')\n",
    "\n",
    "#Матрица когорты\n",
    "sns.set(style='white')\n",
    "plt.figure(figsize=(16, 8))\n",
    "plt.title('ARPUMonth')\n",
    "sns.heatmap(CohortARPUmonth, annot=True, fmt='.2f')"
   ]
  },
  {
   "cell_type": "markdown",
   "metadata": {},
   "source": [
    "## ARPU Week"
   ]
  },
  {
   "cell_type": "code",
   "execution_count": null,
   "metadata": {},
   "outputs": [],
   "source": [
    "ARPUWeek, columns = client.execute('SELECT toYearWeek(installed_at) as dateIn, toYearWeek(created_at) as dateCr, dateDiff(week, installed_at, created_at) as Week, COUNT(DISTINCT(user_id)) as ordersCount, SUM(reporting_revenue) as sumRev, (SUM(reporting_revenue)/COUNT(DISTINCT(user_id))) as ARPUWeek FROM marvel GROUP BY dateIn, dateCr, Week',\n",
    "                                 {'species': \"Iris-setosa\"},\n",
    "                                 with_column_types=True)\n",
    "ARPUweek = pd.DataFrame(ARPUWeek, columns=[tuple[0] for tuple in columns])\n",
    "CohortARPUWeek = ARPUweek.pivot_table(index='dateIn', columns='Week', values='ARPUWeek')\n",
    "CohortARPUWeek.fillna(0, inplace=True)\n",
    "\n",
    "#График когорт\n",
    "CohortARPUWeek.T.plot(figsize=(16, 8))\n",
    "plt.title('ARPUMWeek')\n",
    "plt.ylabel('ARPU')\n",
    "\n",
    "#Матрица когорты (Большйо размер неудобно отображать!)\n",
    "#sns.set(style='white')\n",
    "#plt.figure(figsize=(16, 8))\n",
    "#plt.title('ARPUWeek')\n",
    "#sns.heatmap(CohortARPUWeek, annot=True, fmt='.2f')"
   ]
  },
  {
   "cell_type": "markdown",
   "metadata": {},
   "source": [
    "## ARPU Day"
   ]
  },
  {
   "cell_type": "code",
   "execution_count": null,
   "metadata": {
    "scrolled": true
   },
   "outputs": [],
   "source": [
    "ARPUDay, columns = client.execute('SELECT toYearWeek(installed_at) as dateIn, toYYYYMMDD(created_at) as dateCr, dateDiff(day, installed_at, created_at) as Day, COUNT(DISTINCT(user_id)) as ordersCount, SUM(reporting_revenue) as sumRev, (SUM(reporting_revenue)/COUNT(DISTINCT(user_id))) as ARPUDay  FROM marvel GROUP BY dateIn, dateCr, Day',\n",
    "                                 {'species': \"Iris-setosa\"},\n",
    "                                 with_column_types=True)\n",
    "ARPUDay = pd.DataFrame(ARPUDay, columns=[tuple[0] for tuple in columns])\n",
    "CohortARPUDay = ARPUDay.pivot_table(index='dateIn', columns='Day', values='ARPUDay')\n",
    "CohortARPUDay.fillna(0, inplace=True)\n",
    "\n",
    "#График когорт (Плохо видно, так как большая выборка данных)\n",
    "CohortARPUDay.T.plot(figsize=(16, 8))\n",
    "plt.title('ARPUDay')\n",
    "plt.ylabel('ARPU')\n",
    "\n",
    "#Матрица когорты (Большйо размер неудобно отображать!)\n",
    "#sns.set(style='white')\n",
    "#plt.figure(figsize=(16, 8))\n",
    "#plt.title('ARPUDay')\n",
    "#sns.heatmap(CohortARPUDay, annot=True, fmt='.2f')"
   ]
  },
  {
   "cell_type": "markdown",
   "metadata": {},
   "source": [
    "## Небольшие итоги по ARPU:\n",
    "Для некоторых когорт имеются выбросы, большей частью это первые когорты пользователи которые зарегестрирвоались. Причины скачков могут быть различными:  \n",
    "случайность,  \n",
    "праздники,  \n",
    "киты (игроки которые тратят больше всего денег)."
   ]
  },
  {
   "cell_type": "markdown",
   "metadata": {},
   "source": [
    "## Retention\n",
    "Retention - это коэффициент удержания пользователей, показывающий «возвращаемость» клиентов в приложение за определенный период после установки."
   ]
  },
  {
   "cell_type": "markdown",
   "metadata": {},
   "source": [
    "### Запрос в SQL: \n",
    "    \n",
    "    SELECT \n",
    "        T1.cohort_month, \n",
    "        T1.month_number, \n",
    "        T1.num_users, \n",
    "        T2.num_users, \n",
    "        T1.num_users/T2.num_users as retention \n",
    "    FROM \n",
    "         (SELECT \n",
    "         toYYYYMM(installed_at) as cohort_month,\n",
    "         dateDiff(month, installed_at, created_at) as month_number,\n",
    "         count(cohort_month) as num_users \n",
    "         FROM marvel \n",
    "         group by cohort_month, month_number) AS T1,\n",
    "         (SELECT toYYYYMM(installed_at) as cohort_month, \n",
    "         count(cohort_month) as num_users \n",
    "         FROM marvel \n",
    "         GROUP BY cohort_month) AS T2 \n",
    "    WHERE T1.cohort_month=T2.cohort_month ORDER BY T1.cohort_month'\n",
    "    \n",
    "Для недельных и ежедневных данных заменим dateDiff на нужные когорты"
   ]
  },
  {
   "cell_type": "markdown",
   "metadata": {},
   "source": [
    "## Retention Month"
   ]
  },
  {
   "cell_type": "code",
   "execution_count": null,
   "metadata": {
    "scrolled": false
   },
   "outputs": [],
   "source": [
    "RetentionMonth, columns = client.execute('SELECT T1.cohort_month, T1.month_number, T1.num_users, T2.num_users, T1.num_users/T2.num_users as retention FROM (SELECT toYYYYMM(installed_at) as cohort_month, dateDiff(month, installed_at, created_at) as month_number, count(cohort_month) as num_users FROM marvel group by cohort_month, month_number) as T1, (SELECT toYYYYMM(installed_at) as cohort_month, count(cohort_month) as num_users FROM marvel group by cohort_month) as T2 WHERE T1.cohort_month=T2.cohort_month ORDER BY T1.cohort_month',\n",
    "                                 with_column_types=True)\n",
    "RetentionMonth = pd.DataFrame(RetentionMonth, columns=[tuple[0] for tuple in columns])\n",
    "CohortRetentionMonth = RetentionMonth.pivot_table(index='cohort_month', columns='month_number', values='retention')\n",
    "CohortRetentionMonth.fillna(0, inplace=True)\n",
    "\n",
    "\n",
    "#График когорт (Плохо видно, так как большая выборка данных)\n",
    "CohortRetentionMonth.T.plot(figsize=(16, 8))\n",
    "plt.title('RetentionMonth')\n",
    "plt.ylabel('Retention')\n",
    "\n",
    "#Матрица когорты (Большйо размер неудобно отображать!)\n",
    "sns.set(style='white')\n",
    "plt.figure(figsize=(16, 8))\n",
    "plt.title('RetentionMonth')\n",
    "sns.heatmap(CohortRetentionMonth, annot=True, fmt='.2%')"
   ]
  },
  {
   "cell_type": "markdown",
   "metadata": {},
   "source": [
    "## Retention Week"
   ]
  },
  {
   "cell_type": "code",
   "execution_count": null,
   "metadata": {},
   "outputs": [],
   "source": [
    "RetentionWeek, columns = client.execute('SELECT T1.cohort_week, T1.week_number, T1.num_users, T2.num_users, T1.num_users/T2.num_users as retention FROM (SELECT toYearWeek(installed_at) as cohort_week, dateDiff(week, installed_at, created_at) as week_number, count(cohort_week) as num_users FROM marvel group by cohort_week, week_number) as T1, (SELECT toYearWeek(installed_at) as cohort_week, count(cohort_week) as num_users FROM marvel group by cohort_week) as T2 WHERE T1.cohort_week=T2.cohort_week ORDER BY T1.cohort_week',\n",
    "                                 with_column_types=True)\n",
    "RetentionWeek = pd.DataFrame(RetentionWeek, columns=[tuple[0] for tuple in columns])\n",
    "CohortRetentionWeek = RetentionWeek.pivot_table(index='cohort_week', columns='week_number', values='retention')\n",
    "CohortRetentionWeek.fillna(0, inplace=True)\n",
    "\n",
    "\n",
    "#График когорт (Плохо видно, так как большая выборка данных)\n",
    "CohortRetentionWeek.T.plot(figsize=(16, 8))\n",
    "plt.title('RetentionWeek')\n",
    "plt.ylabel('Retention')\n",
    "\n",
    "#Матрица когорты (Большой размер неудобно отображать!)\n",
    "#sns.set(style='white')\n",
    "#plt.figure(figsize=(16, 8))\n",
    "#plt.title('RetentionMonth')\n",
    "#sns.heatmap(CohortRetentionWeek, annot=True, fmt='.2%')"
   ]
  },
  {
   "cell_type": "markdown",
   "metadata": {},
   "source": [
    "## Retention Day"
   ]
  },
  {
   "cell_type": "code",
   "execution_count": null,
   "metadata": {},
   "outputs": [],
   "source": [
    "RetentionDay, columns = client.execute('SELECT T1.cohort_day, T1.day_number, T1.num_users, T2.num_users, T1.num_users/T2.num_users as retention FROM (SELECT toYYYYMMDD(installed_at) as cohort_day, dateDiff(day, installed_at, created_at) as day_number, count(cohort_day) as num_users FROM marvel group by cohort_day, day_number) as T1, (SELECT toYYYYMMDD(installed_at) as cohort_day, count(cohort_day) as num_users FROM marvel group by cohort_day) as T2 WHERE T1.cohort_day=T2.cohort_day ORDER BY T1.cohort_day',\n",
    "                                 with_column_types=True)\n",
    "RetentionDay = pd.DataFrame(RetentionDay, columns=[tuple[0] for tuple in columns])\n",
    "CohortRetentionDay = RetentionDay.pivot_table(index='cohort_day', columns='day_number', values='retention')\n",
    "CohortRetentionDay.fillna(0, inplace=True)\n",
    "\n",
    "\n",
    "#График когорт (Плохо видно, так как большая выборка данных)\n",
    "CohortRetentionDay.T.plot(figsize=(16, 8))\n",
    "plt.title('RetentionDay')\n",
    "plt.ylabel('Retention')\n",
    "\n",
    "#Матрица когорты (Большой размер неудобно отображать!)\n",
    "#sns.set(style='white')\n",
    "#plt.figure(figsize=(16, 8))\n",
    "#plt.title('RetentionMonth')\n",
    "#sns.heatmap(CohortRetentionDay, annot=True, fmt='.2%')"
   ]
  },
  {
   "cell_type": "markdown",
   "metadata": {},
   "source": [
    "## Небольшие итоги по Retention:\n",
    "Для некоторых когорт имеются выбросы. Причины скачков могут быть различными, но я думаю причина в ивентах."
   ]
  }
 ],
 "metadata": {
  "kernelspec": {
   "display_name": "Python 3",
   "language": "python",
   "name": "python3"
  },
  "language_info": {
   "codemirror_mode": {
    "name": "ipython",
    "version": 3
   },
   "file_extension": ".py",
   "mimetype": "text/x-python",
   "name": "python",
   "nbconvert_exporter": "python",
   "pygments_lexer": "ipython3",
   "version": "3.8.3"
  }
 },
 "nbformat": 4,
 "nbformat_minor": 4
}
